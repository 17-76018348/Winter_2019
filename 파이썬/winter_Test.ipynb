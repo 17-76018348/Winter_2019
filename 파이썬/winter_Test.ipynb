{
 "cells": [
  {
   "cell_type": "markdown",
   "metadata": {},
   "source": [
    "# 파이썬 필기 시험"
   ]
  },
  {
   "cell_type": "markdown",
   "metadata": {},
   "source": [
    "### Q1) c언어, java, python의 차이점을 적고 각 장단점을 쓰시오"
   ]
  },
  {
   "cell_type": "markdown",
   "metadata": {},
   "source": [
    "A1 : c언어와 java는 컴파일러 언어라 컴파일해서 목적파일로 만들어야 되지만 실행시간이 빠르다\n",
    "    파이썬은 인터프리터언어라 컴파일없이 라인별로 실행한다 그래서 시간이 느리지만 \n",
    "    어디서든 실행가능하다\n",
    "    c언어는 절차지향언어고 자바와 파이썬은 객체지향이다"
   ]
  },
  {
   "cell_type": "markdown",
   "metadata": {},
   "source": [
    "### Q2) 파이썬은 Data Type 선언 없이 사용 가능하다. 어떤 이유 때문인지 쓰시오.\n",
    "A2 : 동적 타이핑 \n",
    "    실행시 데이터타입을 결정한다"
   ]
  },
  {
   "cell_type": "markdown",
   "metadata": {},
   "source": [
    "### Q3) [1, 2 ,3, 4, 5] + [1, 2, 3, 4, 5] 실행 결과를 쓰시오.\n",
    "A3 : [1,2,3,4,5,1,2,3,4,5]"
   ]
  },
  {
   "cell_type": "markdown",
   "metadata": {},
   "source": [
    "### Q4) test = [1, 2, 3, 4, 5, 6, 7, 8, 9] 일 때, test[::-1] 실행 결과를 쓰시오.\n",
    "A4 : [9,8,7,6,5,4,3,2,1]"
   ]
  },
  {
   "cell_type": "markdown",
   "metadata": {},
   "source": [
    "### Q5) test = [1, 2, 3] 일 때, test * 5의 실행 결과를 쓰시오.\n",
    "A5 : [1,2,3,1,2,3,1,2,3,1,2,3,1,2,3]"
   ]
  },
  {
   "cell_type": "markdown",
   "metadata": {},
   "source": [
    "```python\n",
    "test = [1, 2, 3, 4, 5]\n",
    "for item in reversed(test):\n",
    "    print(item, end=\" \")\n",
    "```\n",
    "### Q6) 위 코드의 실행 결과를 쓰시오.\n",
    "A6 : 5 4 3 2 1"
   ]
  },
  {
   "cell_type": "markdown",
   "metadata": {},
   "source": [
    "```python\n",
    "test = 'red'\n",
    "list1 = ['green', 'white', 'black']\n",
    "print(list1.append(test))\n",
    "print(list2.extend(test))\n",
    "```\n",
    "### Q7) 위 코드의 실행 결과와 이유를 쓰시오.\n",
    "A7 : ['green', 'white', 'black','red']\n",
    "    ['green', 'white', 'black','red']\n",
    "    append 는 요소 추가\n",
    "    extend는 자체를 추가"
   ]
  },
  {
   "cell_type": "markdown",
   "metadata": {},
   "source": [
    "```python\n",
    "test = 100\n",
    "list1 = ['green', 'white', 'black']\n",
    "print(list1.append(test))\n",
    "print(list2.extend(test))\n",
    "```\n",
    "### Q8) 위 코드의 실행 결과와 이유를 쓰시오.\n",
    "A8 : ['green', 'white', 'black',100]\n",
    "['green', 'white', 'black',100]\n",
    "  append 는 요소 추가\n",
    "    extend는 자체를 추가"
   ]
  },
  {
   "cell_type": "markdown",
   "metadata": {},
   "source": [
    "```python\n",
    "a = [1,2,3] \n",
    "b = a[:] \n",
    "print(b == a)\n",
    "print(b is a)\n",
    "```\n",
    "### Q9) 위 코드의 실행 결과와 이유를 쓰시오.\n",
    "A9 : true 이유:값이 같기 떄문에\n",
    "    flase 이유: 주소가 다르기 때문에\n"
   ]
  },
  {
   "cell_type": "markdown",
   "metadata": {},
   "source": [
    "```python\n",
    "import copy\n",
    "test = [[1, 2, 3], [4, 5, 6], 7, [[7], 8, 9], [9], [10, 11, 12, [13, [14]]]]\n",
    "basic_copy = copy.copy(test)\n",
    "deep_copy = copy.deepcopy(test)\n",
    "basic_copy[5] = [4, 5, 6]\n",
    "deep_copy[5] = 10\n",
    "print(basic_copy)\n",
    "print(deep_copy)\n",
    "```\n",
    "### Q10) 위 코드의 실행 결과와 이유를 쓰시오.\n",
    "A10 : basic copy는 주소값을 전달하기 떄문에 원래의 test도 바뀌고\n",
    "deep_copy는 값만 전달 받음"
   ]
  },
  {
   "cell_type": "code",
   "execution_count": null,
   "metadata": {},
   "outputs": [],
   "source": []
  }
 ],
 "metadata": {
  "kernelspec": {
   "display_name": "Python 3",
   "language": "python",
   "name": "python3"
  },
  "language_info": {
   "codemirror_mode": {
    "name": "ipython",
    "version": 3
   },
   "file_extension": ".py",
   "mimetype": "text/x-python",
   "name": "python",
   "nbconvert_exporter": "python",
   "pygments_lexer": "ipython3",
   "version": "3.7.4"
  }
 },
 "nbformat": 4,
 "nbformat_minor": 2
}
